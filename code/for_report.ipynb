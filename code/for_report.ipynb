{
 "cells": [
  {
   "cell_type": "code",
   "execution_count": 1,
   "metadata": {},
   "outputs": [],
   "source": [
    "import pandas as pd\n",
    "import numpy as np"
   ]
  },
  {
   "cell_type": "code",
   "execution_count": 2,
   "metadata": {},
   "outputs": [],
   "source": [
    "data = pd.read_csv(\"../data/prepared/financial_texts_keywords.csv\")"
   ]
  },
  {
   "cell_type": "code",
   "execution_count": 3,
   "metadata": {},
   "outputs": [
    {
     "data": {
      "text/html": [
       "<div>\n",
       "<style scoped>\n",
       "    .dataframe tbody tr th:only-of-type {\n",
       "        vertical-align: middle;\n",
       "    }\n",
       "\n",
       "    .dataframe tbody tr th {\n",
       "        vertical-align: top;\n",
       "    }\n",
       "\n",
       "    .dataframe thead th {\n",
       "        text-align: right;\n",
       "    }\n",
       "</style>\n",
       "<table border=\"1\" class=\"dataframe\">\n",
       "  <thead>\n",
       "    <tr style=\"text-align: right;\">\n",
       "      <th></th>\n",
       "      <th>Unnamed: 0</th>\n",
       "      <th>Unnamed: 0.1</th>\n",
       "      <th>text</th>\n",
       "    </tr>\n",
       "  </thead>\n",
       "  <tbody>\n",
       "    <tr>\n",
       "      <th>0</th>\n",
       "      <td>0</td>\n",
       "      <td>0</td>\n",
       "      <td>video “i was in my office i was minding my own...</td>\n",
       "    </tr>\n",
       "    <tr>\n",
       "      <th>1</th>\n",
       "      <td>1</td>\n",
       "      <td>1</td>\n",
       "      <td>the price of lumber lbf is down since hitting ...</td>\n",
       "    </tr>\n",
       "    <tr>\n",
       "      <th>2</th>\n",
       "      <td>2</td>\n",
       "      <td>2</td>\n",
       "      <td>who says the american dream is dead</td>\n",
       "    </tr>\n",
       "    <tr>\n",
       "      <th>3</th>\n",
       "      <td>3</td>\n",
       "      <td>3</td>\n",
       "      <td>barry silbert is extremely optimistic on bitco...</td>\n",
       "    </tr>\n",
       "    <tr>\n",
       "      <th>4</th>\n",
       "      <td>4</td>\n",
       "      <td>4</td>\n",
       "      <td>how satellites avoid attacks and space junk wh...</td>\n",
       "    </tr>\n",
       "    <tr>\n",
       "      <th>...</th>\n",
       "      <td>...</td>\n",
       "      <td>...</td>\n",
       "      <td>...</td>\n",
       "    </tr>\n",
       "    <tr>\n",
       "      <th>33281</th>\n",
       "      <td>4841</td>\n",
       "      <td>4841</td>\n",
       "      <td>london marketwatch share prices ended lower in...</td>\n",
       "    </tr>\n",
       "    <tr>\n",
       "      <th>33282</th>\n",
       "      <td>4842</td>\n",
       "      <td>4842</td>\n",
       "      <td>rinkuskiai s beer sales fell by per cent to mi...</td>\n",
       "    </tr>\n",
       "    <tr>\n",
       "      <th>33283</th>\n",
       "      <td>4843</td>\n",
       "      <td>4843</td>\n",
       "      <td>operating profit fell to eur mn from eur mn in...</td>\n",
       "    </tr>\n",
       "    <tr>\n",
       "      <th>33284</th>\n",
       "      <td>4844</td>\n",
       "      <td>4844</td>\n",
       "      <td>net sales of the paper segment decreased to eu...</td>\n",
       "    </tr>\n",
       "    <tr>\n",
       "      <th>33285</th>\n",
       "      <td>4845</td>\n",
       "      <td>4845</td>\n",
       "      <td>sales in finland decreased by in january while...</td>\n",
       "    </tr>\n",
       "  </tbody>\n",
       "</table>\n",
       "<p>33286 rows × 3 columns</p>\n",
       "</div>"
      ],
      "text/plain": [
       "       Unnamed: 0  Unnamed: 0.1  \\\n",
       "0               0             0   \n",
       "1               1             1   \n",
       "2               2             2   \n",
       "3               3             3   \n",
       "4               4             4   \n",
       "...           ...           ...   \n",
       "33281        4841          4841   \n",
       "33282        4842          4842   \n",
       "33283        4843          4843   \n",
       "33284        4844          4844   \n",
       "33285        4845          4845   \n",
       "\n",
       "                                                    text  \n",
       "0      video “i was in my office i was minding my own...  \n",
       "1      the price of lumber lbf is down since hitting ...  \n",
       "2                   who says the american dream is dead   \n",
       "3      barry silbert is extremely optimistic on bitco...  \n",
       "4      how satellites avoid attacks and space junk wh...  \n",
       "...                                                  ...  \n",
       "33281  london marketwatch share prices ended lower in...  \n",
       "33282  rinkuskiai s beer sales fell by per cent to mi...  \n",
       "33283  operating profit fell to eur mn from eur mn in...  \n",
       "33284  net sales of the paper segment decreased to eu...  \n",
       "33285  sales in finland decreased by in january while...  \n",
       "\n",
       "[33286 rows x 3 columns]"
      ]
     },
     "execution_count": 3,
     "metadata": {},
     "output_type": "execute_result"
    }
   ],
   "source": [
    "data"
   ]
  },
  {
   "cell_type": "code",
   "execution_count": 4,
   "metadata": {},
   "outputs": [],
   "source": [
    "keywords = [('bitco', 0.4436),\n",
    " ('lifechanging', 0.2185),\n",
    " ('woodmont', 0.1872),\n",
    " ('putinsmypapiefxequifax', 0.2023),\n",
    " ('analysts', 0.3273),\n",
    " ('trumps', 0.0538),\n",
    " ('liechtenstein', 0.1586),\n",
    " ('sihvonen', 0.3196),\n",
    " ('felled', 0.1333),\n",
    " ('photonium', 0.0429),\n",
    " ('gtmi', 0.1954),\n",
    " ('jerry', 0.2843),\n",
    " ('naacp', 0.169),\n",
    " ('nasdaqdltr', 0.1714),\n",
    " ('rickdecard', 0.2128),\n",
    " ('breakfast', 0.0108),\n",
    " ('bios', 0.0964),\n",
    " ('dgld', 0.2283),\n",
    " ('sellinga', 0.336),\n",
    " ('pledged', 0.2649),\n",
    " ('exists', 0.2827),\n",
    " ('crushes', 0.0765),\n",
    " ('km', 0.0499),\n",
    " ('brpau', 0.2367),\n",
    " ('hotpagenews', 0.249),\n",
    " ('expiring', -0.0007),\n",
    " ('gratuitous', 0.0642),\n",
    " ('carolinefevans', 0.1872),\n",
    " ('whotradeshlthilton', 0.3374),\n",
    " ('inflows', 0.1075),\n",
    " ('foxconn', 0.2512),\n",
    " ('arent', 0.2503),\n",
    " ('drillers', 0.0503),\n",
    " ('epicmove', 0.3357),\n",
    " ('vergecurrency', 0.3083),\n",
    " ('icloud', 0.0192),\n",
    " ('sterling', 0.2724),\n",
    " ('bbbd', 0.1892),\n",
    " ('recalled', 0.1338),\n",
    " ('bankrupt', 0.2743)]"
   ]
  },
  {
   "cell_type": "code",
   "execution_count": 5,
   "metadata": {},
   "outputs": [],
   "source": [
    "keywords = [k[0] for k in keywords]"
   ]
  },
  {
   "cell_type": "code",
   "execution_count": 7,
   "metadata": {},
   "outputs": [
    {
     "name": "stdout",
     "output_type": "stream",
     "text": [
      "2623 0.07880189869614854\n"
     ]
    }
   ],
   "source": [
    "total = data.shape[0]\n",
    "contains = 0\n",
    "\n",
    "for text in data['text']:\n",
    "    for keyword in keywords:\n",
    "        if keyword in text:\n",
    "            contains += 1\n",
    "            break\n",
    "\n",
    "print(contains, contains/total)"
   ]
  },
  {
   "cell_type": "code",
   "execution_count": 17,
   "metadata": {},
   "outputs": [],
   "source": [
    "import seaborn as sns\n",
    "import matplotlib.pyplot as plt"
   ]
  },
  {
   "cell_type": "code",
   "execution_count": 9,
   "metadata": {},
   "outputs": [],
   "source": [
    "step = [200, 400, 600, 800, 1000, 1200, 1400]\n",
    "training_loss = [0.644400, 0.541900, 0.525000, 0.466100, 0.436000, 0.441500, 0.406700]\n",
    "validation_loss = [0.552330, 0.492410, 0.493543, 0.509786, 0.516807, 0.470589, 0.523799]\n",
    "accuracy = [0.724176, 0.766383, 0.785265, 0.770455, 0.799704, 0.793040, 0.776009]"
   ]
  },
  {
   "cell_type": "code",
   "execution_count": 13,
   "metadata": {},
   "outputs": [
    {
     "data": {
      "text/html": [
       "<div>\n",
       "<style scoped>\n",
       "    .dataframe tbody tr th:only-of-type {\n",
       "        vertical-align: middle;\n",
       "    }\n",
       "\n",
       "    .dataframe tbody tr th {\n",
       "        vertical-align: top;\n",
       "    }\n",
       "\n",
       "    .dataframe thead th {\n",
       "        text-align: right;\n",
       "    }\n",
       "</style>\n",
       "<table border=\"1\" class=\"dataframe\">\n",
       "  <thead>\n",
       "    <tr style=\"text-align: right;\">\n",
       "      <th></th>\n",
       "      <th>step</th>\n",
       "      <th>training_loss</th>\n",
       "      <th>validation_loss</th>\n",
       "      <th>accuracy</th>\n",
       "    </tr>\n",
       "  </thead>\n",
       "  <tbody>\n",
       "    <tr>\n",
       "      <th>0</th>\n",
       "      <td>200.0</td>\n",
       "      <td>0.6444</td>\n",
       "      <td>0.552330</td>\n",
       "      <td>0.724176</td>\n",
       "    </tr>\n",
       "    <tr>\n",
       "      <th>1</th>\n",
       "      <td>400.0</td>\n",
       "      <td>0.5419</td>\n",
       "      <td>0.492410</td>\n",
       "      <td>0.766383</td>\n",
       "    </tr>\n",
       "    <tr>\n",
       "      <th>2</th>\n",
       "      <td>600.0</td>\n",
       "      <td>0.5250</td>\n",
       "      <td>0.493543</td>\n",
       "      <td>0.785265</td>\n",
       "    </tr>\n",
       "    <tr>\n",
       "      <th>3</th>\n",
       "      <td>800.0</td>\n",
       "      <td>0.4661</td>\n",
       "      <td>0.509786</td>\n",
       "      <td>0.770455</td>\n",
       "    </tr>\n",
       "    <tr>\n",
       "      <th>4</th>\n",
       "      <td>1000.0</td>\n",
       "      <td>0.4360</td>\n",
       "      <td>0.516807</td>\n",
       "      <td>0.799704</td>\n",
       "    </tr>\n",
       "    <tr>\n",
       "      <th>5</th>\n",
       "      <td>1200.0</td>\n",
       "      <td>0.4415</td>\n",
       "      <td>0.470589</td>\n",
       "      <td>0.793040</td>\n",
       "    </tr>\n",
       "    <tr>\n",
       "      <th>6</th>\n",
       "      <td>1400.0</td>\n",
       "      <td>0.4067</td>\n",
       "      <td>0.523799</td>\n",
       "      <td>0.776009</td>\n",
       "    </tr>\n",
       "  </tbody>\n",
       "</table>\n",
       "</div>"
      ],
      "text/plain": [
       "     step  training_loss  validation_loss  accuracy\n",
       "0   200.0         0.6444         0.552330  0.724176\n",
       "1   400.0         0.5419         0.492410  0.766383\n",
       "2   600.0         0.5250         0.493543  0.785265\n",
       "3   800.0         0.4661         0.509786  0.770455\n",
       "4  1000.0         0.4360         0.516807  0.799704\n",
       "5  1200.0         0.4415         0.470589  0.793040\n",
       "6  1400.0         0.4067         0.523799  0.776009"
      ]
     },
     "execution_count": 13,
     "metadata": {},
     "output_type": "execute_result"
    }
   ],
   "source": [
    "res = pd.DataFrame(data=np.array([step, training_loss, validation_loss, accuracy]).T, \n",
    "                   columns=['step', 'training_loss', 'validation_loss', 'accuracy'])\n",
    "res"
   ]
  },
  {
   "cell_type": "code",
   "execution_count": 23,
   "metadata": {},
   "outputs": [],
   "source": [
    "sns.set_style(\"whitegrid\")\n",
    "sns.set_context(\"notebook\")"
   ]
  },
  {
   "cell_type": "code",
   "execution_count": 24,
   "metadata": {},
   "outputs": [
    {
     "data": {
      "image/png": "[encoded data removed]",
      "text/plain": [
       "<Figure size 432x288 with 1 Axes>"
      ]
     },
     "metadata": {},
     "output_type": "display_data"
    }
   ],
   "source": [
    "sns.lineplot(data=res, x='step', y='training_loss', label='Training Loss')\n",
    "sns.lineplot(data=res, x='step', y='validation_loss', label='Validation Loss')\n",
    "plt.show()"
   ]
  },
  {
   "cell_type": "code",
   "execution_count": 26,
   "metadata": {},
   "outputs": [
    {
     "data": {
      "image/png": "[encoded data removed]",
      "text/plain": [
       "<Figure size 432x288 with 1 Axes>"
      ]
     },
     "metadata": {},
     "output_type": "display_data"
    }
   ],
   "source": [
    "sns.lineplot(data=res, x='step', y='accuracy', label='Validation Accuracy')\n",
    "plt.show()"
   ]
  },
  {
   "cell_type": "code",
   "execution_count": 29,
   "metadata": {},
   "outputs": [],
   "source": [
    "import re"
   ]
  },
  {
   "cell_type": "code",
   "execution_count": 42,
   "metadata": {},
   "outputs": [],
   "source": [
    "s = \"\"\"Step\tTraining Loss\tValidation Loss\tAccuracy\n",
    "700\t0.165900\t0.087213\t0.981231\n",
    "1400\t0.089600\t0.057703\t0.987844\n",
    "2100\t0.059700\t0.050412\t0.990372\n",
    "2800\t0.059500\t0.053524\t0.990664\n",
    "3500\t0.049600\t0.041653\t0.991150\n",
    "4200\t0.043900\t0.051918\t0.989497\n",
    "4900\t0.052100\t0.035581\t0.991442\n",
    "5600\t0.027700\t0.043681\t0.992317\n",
    "6300\t0.013600\t0.048026\t0.991928\n",
    "7000\t0.011300\t0.046853\t0.992706\n",
    "7700\t0.012000\t0.037074\t0.993290\n",
    "8400\t0.019900\t0.040909\t0.992026\n",
    "9100\t0.006900\t0.047472\t0.992415\n",
    "9800\t0.007700\t0.043290\t0.993290\"\"\"\n",
    "\n",
    "s = re.split('\\t|\\n',s)\n",
    "\n",
    "step = [int(x) for x in s[4::4]]\n",
    "training_loss = [float(x) for x in s[5::4]]\n",
    "validation_loss = [float(x) for x in s[6::4]]\n",
    "accuracy = [float(x) for x in s[7::4]]"
   ]
  },
  {
   "cell_type": "code",
   "execution_count": 43,
   "metadata": {},
   "outputs": [
    {
     "data": {
      "text/html": [
       "<div>\n",
       "<style scoped>\n",
       "    .dataframe tbody tr th:only-of-type {\n",
       "        vertical-align: middle;\n",
       "    }\n",
       "\n",
       "    .dataframe tbody tr th {\n",
       "        vertical-align: top;\n",
       "    }\n",
       "\n",
       "    .dataframe thead th {\n",
       "        text-align: right;\n",
       "    }\n",
       "</style>\n",
       "<table border=\"1\" class=\"dataframe\">\n",
       "  <thead>\n",
       "    <tr style=\"text-align: right;\">\n",
       "      <th></th>\n",
       "      <th>step</th>\n",
       "      <th>training_loss</th>\n",
       "      <th>validation_loss</th>\n",
       "      <th>accuracy</th>\n",
       "    </tr>\n",
       "  </thead>\n",
       "  <tbody>\n",
       "    <tr>\n",
       "      <th>0</th>\n",
       "      <td>700.0</td>\n",
       "      <td>0.1659</td>\n",
       "      <td>0.087213</td>\n",
       "      <td>0.981231</td>\n",
       "    </tr>\n",
       "    <tr>\n",
       "      <th>1</th>\n",
       "      <td>1400.0</td>\n",
       "      <td>0.0896</td>\n",
       "      <td>0.057703</td>\n",
       "      <td>0.987844</td>\n",
       "    </tr>\n",
       "    <tr>\n",
       "      <th>2</th>\n",
       "      <td>2100.0</td>\n",
       "      <td>0.0597</td>\n",
       "      <td>0.050412</td>\n",
       "      <td>0.990372</td>\n",
       "    </tr>\n",
       "    <tr>\n",
       "      <th>3</th>\n",
       "      <td>2800.0</td>\n",
       "      <td>0.0595</td>\n",
       "      <td>0.053524</td>\n",
       "      <td>0.990664</td>\n",
       "    </tr>\n",
       "    <tr>\n",
       "      <th>4</th>\n",
       "      <td>3500.0</td>\n",
       "      <td>0.0496</td>\n",
       "      <td>0.041653</td>\n",
       "      <td>0.991150</td>\n",
       "    </tr>\n",
       "    <tr>\n",
       "      <th>5</th>\n",
       "      <td>4200.0</td>\n",
       "      <td>0.0439</td>\n",
       "      <td>0.051918</td>\n",
       "      <td>0.989497</td>\n",
       "    </tr>\n",
       "    <tr>\n",
       "      <th>6</th>\n",
       "      <td>4900.0</td>\n",
       "      <td>0.0521</td>\n",
       "      <td>0.035581</td>\n",
       "      <td>0.991442</td>\n",
       "    </tr>\n",
       "    <tr>\n",
       "      <th>7</th>\n",
       "      <td>5600.0</td>\n",
       "      <td>0.0277</td>\n",
       "      <td>0.043681</td>\n",
       "      <td>0.992317</td>\n",
       "    </tr>\n",
       "    <tr>\n",
       "      <th>8</th>\n",
       "      <td>6300.0</td>\n",
       "      <td>0.0136</td>\n",
       "      <td>0.048026</td>\n",
       "      <td>0.991928</td>\n",
       "    </tr>\n",
       "    <tr>\n",
       "      <th>9</th>\n",
       "      <td>7000.0</td>\n",
       "      <td>0.0113</td>\n",
       "      <td>0.046853</td>\n",
       "      <td>0.992706</td>\n",
       "    </tr>\n",
       "    <tr>\n",
       "      <th>10</th>\n",
       "      <td>7700.0</td>\n",
       "      <td>0.0120</td>\n",
       "      <td>0.037074</td>\n",
       "      <td>0.993290</td>\n",
       "    </tr>\n",
       "    <tr>\n",
       "      <th>11</th>\n",
       "      <td>8400.0</td>\n",
       "      <td>0.0199</td>\n",
       "      <td>0.040909</td>\n",
       "      <td>0.992026</td>\n",
       "    </tr>\n",
       "    <tr>\n",
       "      <th>12</th>\n",
       "      <td>9100.0</td>\n",
       "      <td>0.0069</td>\n",
       "      <td>0.047472</td>\n",
       "      <td>0.992415</td>\n",
       "    </tr>\n",
       "    <tr>\n",
       "      <th>13</th>\n",
       "      <td>9800.0</td>\n",
       "      <td>0.0077</td>\n",
       "      <td>0.043290</td>\n",
       "      <td>0.993290</td>\n",
       "    </tr>\n",
       "  </tbody>\n",
       "</table>\n",
       "</div>"
      ],
      "text/plain": [
       "      step  training_loss  validation_loss  accuracy\n",
       "0    700.0         0.1659         0.087213  0.981231\n",
       "1   1400.0         0.0896         0.057703  0.987844\n",
       "2   2100.0         0.0597         0.050412  0.990372\n",
       "3   2800.0         0.0595         0.053524  0.990664\n",
       "4   3500.0         0.0496         0.041653  0.991150\n",
       "5   4200.0         0.0439         0.051918  0.989497\n",
       "6   4900.0         0.0521         0.035581  0.991442\n",
       "7   5600.0         0.0277         0.043681  0.992317\n",
       "8   6300.0         0.0136         0.048026  0.991928\n",
       "9   7000.0         0.0113         0.046853  0.992706\n",
       "10  7700.0         0.0120         0.037074  0.993290\n",
       "11  8400.0         0.0199         0.040909  0.992026\n",
       "12  9100.0         0.0069         0.047472  0.992415\n",
       "13  9800.0         0.0077         0.043290  0.993290"
      ]
     },
     "execution_count": 43,
     "metadata": {},
     "output_type": "execute_result"
    }
   ],
   "source": [
    "res = pd.DataFrame(data=np.array([step, training_loss, validation_loss, accuracy]).T, \n",
    "                   columns=['step', 'training_loss', 'validation_loss', 'accuracy'])\n",
    "res"
   ]
  },
  {
   "cell_type": "code",
   "execution_count": 44,
   "metadata": {
    "scrolled": false
   },
   "outputs": [
    {
     "data": {
      "image/png": "[encoded data removed]",
      "text/plain": [
       "<Figure size 432x288 with 1 Axes>"
      ]
     },
     "metadata": {},
     "output_type": "display_data"
    }
   ],
   "source": [
    "sns.lineplot(data=res, x='step', y='training_loss', label='Training Loss')\n",
    "sns.lineplot(data=res, x='step', y='validation_loss', label='Validation Loss')\n",
    "plt.show()"
   ]
  },
  {
   "cell_type": "code",
   "execution_count": 45,
   "metadata": {},
   "outputs": [
    {
     "data": {
      "image/png": "[encoded data removed]",
      "text/plain": [
       "<Figure size 432x288 with 1 Axes>"
      ]
     },
     "metadata": {},
     "output_type": "display_data"
    }
   ],
   "source": [
    "sns.lineplot(data=res, x='step', y='accuracy', label='Validation Accuracy')\n",
    "plt.show()"
   ]
  },
  {
   "cell_type": "code",
   "execution_count": 48,
   "metadata": {},
   "outputs": [],
   "source": [
    "test = pd.read_csv('../data/prepared/dataset_for_testing_v2.csv')"
   ]
  },
  {
   "cell_type": "code",
   "execution_count": 50,
   "metadata": {},
   "outputs": [
    {
     "data": {
      "text/plain": [
       "'on wednesday he announced that the government would propose granting a licence for two reactors one to be built by fennovoima and the other by tvo '"
      ]
     },
     "execution_count": 50,
     "metadata": {},
     "output_type": "execute_result"
    }
   ],
   "source": [
    "test.iloc[3068]['text']"
   ]
  }
 ],
 "metadata": {
  "kernelspec": {
   "display_name": "Python 3",
   "language": "python",
   "name": "python3"
  },
  "language_info": {
   "codemirror_mode": {
    "name": "ipython",
    "version": 3
   },
   "file_extension": ".py",
   "mimetype": "text/x-python",
   "name": "python",
   "nbconvert_exporter": "python",
   "pygments_lexer": "ipython3",
   "version": "3.8.5"
  }
 },
 "nbformat": 4,
 "nbformat_minor": 4
}
